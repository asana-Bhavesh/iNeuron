{
 "cells": [
  {
   "cell_type": "markdown",
   "id": "6a79545f",
   "metadata": {},
   "source": [
    "# ASSIGNMENT - 1\n",
    "\n",
    "**Author:** Mr. Bhavesh Asanabada<br>\n",
    "**Date of submission:** 13th January, 2022<br> \n",
    "**Contact E-mail:** work.asanabhavesh@gmail.com\n",
    "\n",
    "---\n",
    "---"
   ]
  },
  {
   "cell_type": "markdown",
   "id": "89aff088",
   "metadata": {},
   "source": [
    "# Question - 1\n",
    "\n",
    "**In the below elements which of them are values or an expression?<br>\n",
    "Example: Values can be integer or string and expressions will be mathematical operatiors.**\n",
    "1.   Asterisk ( * )\n",
    "2.   'hello'\n",
    "3.   -87.8\n",
    "4.   -\n",
    "5.   /\n",
    "6.   +\n",
    "7.   6\n",
    "\n",
    "## Answer\n",
    "\n",
    "Expression (Operators) are: *  -  / +<br>\n",
    "Values: 'hello', -87.8, 6\n",
    "\n",
    "---"
   ]
  },
  {
   "cell_type": "markdown",
   "id": "9e35cdcd",
   "metadata": {},
   "source": [
    "# Question - 2\n",
    "\n",
    "**What is the difference between a string and a variable**\n",
    "\n",
    "## Answer\n",
    "\n",
    "### String:\n",
    "A String is an immutable data type in python. It is a collection of alphabatic, numerals and other characters which are enclosed in a single quotes (' ') or in a double quotes (\" \").<br>\n",
    "\n",
    "For example:<br>\n",
    "```python\n",
    "my_feedback = 'I am enjoying this course'\n",
    "my_feedback = \"I'm enjoying this course\"\n",
    "```\n",
    "\n",
    "### Variable:\n",
    "In python a variable acts as a data holder.<br>\n",
    "For example:<br>\n",
    "```python\n",
    "    my_name = \"Bhavesh\"\n",
    "    otp = 122412\n",
    "    character = 'H'\n",
    "```\n",
    "In the above example, I had assigned my name to a variable called `my_name`. Here, `my_name` is a variable and `\"Bhavesh\"` is a value of string data type.<br>\n",
    "The main use of variables are to store the calue and to access that value in our code.<br>\n",
    "\n",
    "Variables can be of two types:<br>\n",
    "\n",
    "    1. Global Variables - Declared Globally and can access through out the code.\n",
    "    2. Local Variables - Accessed in a functional range.\n",
    "    \n",
    "---"
   ]
  },
  {
   "cell_type": "markdown",
   "id": "05d6394d",
   "metadata": {},
   "source": [
    "# Question - 3\n",
    " **Describe any three different data types.**\n",
    "\n",
    "## Answer\n",
    "\n",
    "### Numbers\n",
    "#### Integer data type\n",
    "syntax: `int`<br>\n",
    "Whole numbers such as `0, 5, 500`\n",
    "#### Floating point data type\n",
    "syntax: `float`<br>\n",
    "Numbers with decimal point:  `4.0, 4.4, 2.17`\n",
    "### String\n",
    "syntax: `str`<br>\n",
    "Ordered sequence of characters:  `\"Bhavesh\", 'hey', '3.0', \"a\"`\n",
    "### Lists\n",
    "syntax: `list`<br>\n",
    "Ordered sequence of objects: `['hey', 10, 10.32]\n",
    "\n",
    "---"
   ]
  },
  {
   "cell_type": "markdown",
   "id": "fb7102e0",
   "metadata": {},
   "source": [
    "# Question - 4\n",
    "**What is an expression made up of? What do all expressions do?**\n",
    "## Answer\n",
    "An expression is made up of literals (acts as operands) and operators.<br>\n",
    "An expression on the end will perform the defined operations on the operands and results the calculated value.\n",
    "\n",
    "---"
   ]
  },
  {
   "cell_type": "markdown",
   "id": "b6ad419e",
   "metadata": {},
   "source": [
    "# Question - 5\n",
    "**This assignment statements, like spam = 10. What is the difference between an expression and a statement?**\n",
    "## Answer\n",
    "An expression is a combination of operands and operators which will be calculated by the complier and results some value. Where as, a statement is a value that doesn't return anything and it acts like a standalone unit.\n",
    "\n",
    "---"
   ]
  },
  {
   "cell_type": "markdown",
   "id": "c3a487dd",
   "metadata": {},
   "source": [
    "# Question - 6\n",
    "**After running the following code, what does the variable bacon contain?**\n",
    "```python\n",
    "bacon = 32\n",
    "bacon += 1\n",
    "```\n",
    "## Answer\n",
    "\n",
    "The operator `+=` is an increment operator.\n",
    "\n",
    "```python\n",
    "becon = 32 # Assigning a value\n",
    "# Incrementing by 1\n",
    "becon = becon + 1 # Returns becon value as 33\n",
    "becon += 1 # Returns becon value as 34\n",
    "```\n",
    "\n",
    "---"
   ]
  },
  {
   "cell_type": "markdown",
   "id": "5caf33a0",
   "metadata": {},
   "source": [
    "# Question - 7\n",
    "**What should the values of the following two terms be?**\n",
    "\n",
    "## Answer\n",
    "```python\n",
    "# Input\n",
    "'spam' + 'spamspam' \n",
    "# Output\n",
    "'spamspamspam'\n",
    "\n",
    "#Input\n",
    "'spam'*3 # String multiplies 3 times\n",
    "#Output\n",
    "'spamspamspam'\n",
    "```\n",
    "\n",
    "---"
   ]
  },
  {
   "cell_type": "markdown",
   "id": "23561783",
   "metadata": {},
   "source": [
    "# Question - 8\n",
    "**Why is eggs a valid variable name while 100 is invalid?**\n",
    "\n",
    "## Answer\n",
    "Rules for variable assignment\n",
    "1. Names can not start with numbers.\n",
    "2. There can be no spaces in name, instead can be used underscores(_).\n",
    "3. Camel case, Snake case is allowed\n",
    "4. Should not contain any special characters such as `:\"',<>/?|\\(){}` etc..\n",
    "\n",
    "Apart from this, a variable should be meaningful and can be understandable what kind of value it holds.\n",
    "\n",
    "----"
   ]
  },
  {
   "cell_type": "markdown",
   "id": "8399f51f",
   "metadata": {},
   "source": [
    "# Question - 9\n",
    "**What three functions can be used to get the integer, floating-point number, or string\n",
    "version of a value?**"
   ]
  },
  {
   "cell_type": "code",
   "execution_count": null,
   "id": "5ff35bad",
   "metadata": {},
   "outputs": [],
   "source": [
    "value = int(input(\"Enter an integer value\"))\n",
    "\n",
    "integer_value = int(value)\n",
    "print(f'{integer_value} is a {type(integer_value)} data type')\n",
    "\n",
    "floating_value = float(value)\n",
    "print(f'{floating_value} is a {type(floating_value)} data type')\n",
    "\n",
    "string_value = str(value)\n",
    "print(f'{string_value} is a {type(string_value)} data type')"
   ]
  },
  {
   "cell_type": "markdown",
   "id": "e32fd1c3",
   "metadata": {},
   "source": [
    "---"
   ]
  },
  {
   "cell_type": "markdown",
   "id": "86a05eb1",
   "metadata": {},
   "source": [
    "# Question - 10\n",
    "\n",
    "**Why does this expression cause an error? How can you fix it?<br>\n",
    "```python \n",
    "    'I have eaten ' + 99 + ' burritos.'\n",
    "```\n",
    "## Answer\n",
    "\n",
    "In the given code we are trying to concatenate an integer data type (i.e, 99) to the string data type. In python, this type of concatenation throws an error.\n",
    "<br>\n",
    "To fix this error we can change the integer data type to string by enclosing in single quotes (' ').\n",
    "```python\n",
    "    'I have eaten ' + '99' + ' burritos.'\n",
    "```"
   ]
  }
 ],
 "metadata": {
  "kernelspec": {
   "display_name": "Python 3 (ipykernel)",
   "language": "python",
   "name": "python3"
  },
  "language_info": {
   "codemirror_mode": {
    "name": "ipython",
    "version": 3
   },
   "file_extension": ".py",
   "mimetype": "text/x-python",
   "name": "python",
   "nbconvert_exporter": "python",
   "pygments_lexer": "ipython3",
   "version": "3.8.11"
  }
 },
 "nbformat": 4,
 "nbformat_minor": 5
}
